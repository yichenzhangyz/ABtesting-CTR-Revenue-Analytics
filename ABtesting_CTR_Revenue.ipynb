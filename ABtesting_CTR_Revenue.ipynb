{
 "cells": [
  {
   "cell_type": "code",
   "execution_count": null,
   "metadata": {},
   "outputs": [],
   "source": [
    "%matplotlib inline \n",
    "import pandas as pd\n",
    "import numpy as np\n",
    "import pandas_profiling as ppv\n",
    "from sklearn.linear_model import LogisticRegression\n",
    "import matplotlib.pyplot as plt\n",
    "from IPython.display import display, HTML"
   ]
  },
  {
   "cell_type": "code",
   "execution_count": null,
   "metadata": {
    "collapsed": true
   },
   "outputs": [],
   "source": [
    "ctr_revenue = pd.read_csv('abtest_example_ctr.csv')"
   ]
  },
  {
   "cell_type": "code",
   "execution_count": null,
   "metadata": {},
   "outputs": [],
   "source": [
    "# ctr_revenue_copy.date = ctr_revenue_copy.date.to_datetime()\n",
    "ctr_revenue['date'] = pd.to_datetime(ctr_revenue['date'])"
   ]
  },
  {
   "cell_type": "code",
   "execution_count": null,
   "metadata": {},
   "outputs": [],
   "source": [
    "ppv.ProfileReport(ctr_revenue)"
   ]
  },
  {
   "cell_type": "markdown",
   "metadata": {},
   "source": [
    "# Checking problem in dataset"
   ]
  },
  {
   "cell_type": "markdown",
   "metadata": {},
   "source": [
    "There are missing data in column 'userid'"
   ]
  },
  {
   "cell_type": "code",
   "execution_count": null,
   "metadata": {},
   "outputs": [],
   "source": [
    "for column in ctr_revenue.columns.values:\n",
    "    print column, ctr_revenue[[column]].isnull().values.any()"
   ]
  },
  {
   "cell_type": "code",
   "execution_count": null,
   "metadata": {},
   "outputs": [],
   "source": [
    "ctr_revenue.shape"
   ]
  },
  {
   "cell_type": "markdown",
   "metadata": {},
   "source": [
    "Is there any user id falling into both test and control groups - any mixed users?"
   ]
  },
  {
   "cell_type": "code",
   "execution_count": null,
   "metadata": {},
   "outputs": [],
   "source": [
    "userid_distinctgroups = ctr_revenue.groupby('userid')['groups'].nunique().reset_index(name = 'number_of_distinct_groups')\n",
    "user_multigroup = userid_distinctgroups[userid_distinctgroups.number_of_distinct_groups > 1]\n",
    "print user_multigroup.count()\n",
    "# print user_multigroup"
   ]
  },
  {
   "cell_type": "markdown",
   "metadata": {},
   "source": [
    "Any userid has more than 1 device id? - user with multiple devices"
   ]
  },
  {
   "cell_type": "code",
   "execution_count": null,
   "metadata": {},
   "outputs": [],
   "source": [
    "userid_numOfDevices = ctr_revenue.groupby('userid')['deviceid'].nunique().reset_index(name = 'number_of_devices')\n",
    "user_multiDevice = userid_numOfDevices[userid_numOfDevices.number_of_devices > 1]\n",
    "print user_multiDevice.count()\n",
    "# print user_multiDevice"
   ]
  },
  {
   "cell_type": "markdown",
   "metadata": {},
   "source": [
    "Any device id has more than 1 user id?"
   ]
  },
  {
   "cell_type": "code",
   "execution_count": null,
   "metadata": {},
   "outputs": [],
   "source": [
    "deviceid_NumOfUserid = ctr_revenue.groupby('deviceid')['userid'].nunique().reset_index(name = 'numner_of_userid')\n",
    "device_multiUser =  deviceid_NumOfUserid[deviceid_NumOfUserid.numner_of_userid > 1]\n",
    "# print device_multiUser\n",
    "print device_multiUser.count()"
   ]
  },
  {
   "cell_type": "code",
   "execution_count": null,
   "metadata": {
    "collapsed": true
   },
   "outputs": [],
   "source": [
    "ctr_revenue_copy = ctr_revenue.copy()"
   ]
  },
  {
   "cell_type": "markdown",
   "metadata": {},
   "source": [
    "create dummy variable - if any problems above, 1 else 0"
   ]
  },
  {
   "cell_type": "code",
   "execution_count": null,
   "metadata": {
    "collapsed": true
   },
   "outputs": [],
   "source": [
    "ctr_revenue_copy['pb_missing_userid'] = ctr_revenue.userid.isnull().values * 1"
   ]
  },
  {
   "cell_type": "code",
   "execution_count": null,
   "metadata": {
    "collapsed": true
   },
   "outputs": [],
   "source": [
    "user_multigroup_idSet = set(user_multigroup.userid.values)\n",
    "ctr_revenue_copy['pb_userid_mix'] = ctr_revenue_copy['userid'].apply(lambda x: x in user_multigroup_idSet) * 1"
   ]
  },
  {
   "cell_type": "code",
   "execution_count": null,
   "metadata": {
    "collapsed": true
   },
   "outputs": [],
   "source": [
    "user_multiDevice_idSet = set(user_multiDevice.userid.values)\n",
    "ctr_revenue_copy['pb_userid_mulD'] = ctr_revenue_copy['userid'].apply(lambda x: x in user_multiDevice_idSet) * 1"
   ]
  },
  {
   "cell_type": "code",
   "execution_count": null,
   "metadata": {},
   "outputs": [],
   "source": [
    "device_multiUser_idSet = set(device_multiUser.deviceid.values)\n",
    "ctr_revenue_copy['pb_deviceid_mulU'] = ctr_revenue_copy['deviceid'].apply(lambda x: x in device_multiUser_idSet) * 1"
   ]
  },
  {
   "cell_type": "markdown",
   "metadata": {},
   "source": [
    "For simplicity, I create a combined column 1/0 if there is any problems. In real projects, \n",
    "I will do this separately for each problem"
   ]
  },
  {
   "cell_type": "code",
   "execution_count": null,
   "metadata": {},
   "outputs": [],
   "source": [
    "ctr_revenue_copy['pb_all'] = ctr_revenue_copy.apply(lambda x: max(x['pb_missing_userid'], x['pb_userid_mix'], x['pb_userid_mulD'], x['pb_deviceid_mulU']), axis=1)"
   ]
  },
  {
   "cell_type": "code",
   "execution_count": null,
   "metadata": {},
   "outputs": [],
   "source": [
    "fig, axes = plt.subplots(nrows = 3, ncols = 2, figsize = (10,10))\n",
    "ctr_revenue_copy.groupby('pb_all')['userid'].nunique('userid')\\\n",
    "    .reset_index(name = 'number_of_n_userid').plot.bar(x = 'pb_all', y = 'number_of_n_userid', ax = axes[0][0])\n",
    "ctr_revenue_copy.groupby('pb_userid_mix')['userid'].nunique('userid')\\\n",
    "    .reset_index(name = 'number_of_n_userid').plot.bar(x = 'pb_userid_mix', y = 'number_of_n_userid', ax = axes[0][1])\n",
    "ctr_revenue_copy.groupby('pb_userid_mulD')['userid'].nunique('userid')\\\n",
    "    .reset_index(name = 'number_of_n_userid').plot.bar(x = 'pb_userid_mulD', y = 'number_of_n_userid', ax = axes[1][0])\n",
    "ctr_revenue_copy.groupby('pb_deviceid_mulU')['userid'].nunique('userid')\\\n",
    "    .reset_index(name = 'number_of_n_userid').plot.bar(x = 'pb_deviceid_mulU', y = 'number_of_n_userid', ax = axes[1][1])\n",
    "ctr_revenue_copy.groupby('pb_missing_userid')['userid'].nunique('userid')\\\n",
    "    .reset_index(name = 'number_of_n_userid').plot.bar(x = 'pb_missing_userid', y = 'number_of_n_userid', ax = axes[2][0])\n"
   ]
  },
  {
   "cell_type": "code",
   "execution_count": null,
   "metadata": {},
   "outputs": [],
   "source": [
    "ctr_revenue_logit = pd.get_dummies(ctr_revenue_copy, prefix_sep='_', drop_first=True)"
   ]
  },
  {
   "cell_type": "markdown",
   "metadata": {},
   "source": [
    "http://www.kellieottoboni.com/posts/2017/07/logistic-regression-python/ \n",
    "1. sklearn doesn't have estimated coefficients and model fit statistics. \n",
    "2. There is no way to switch off regularization in scikit-learn\n",
    "\n",
    "So, I am using statsmodels.api (it can add intercept) I tried statsmodels.formula.api which can't add intercept."
   ]
  },
  {
   "cell_type": "code",
   "execution_count": null,
   "metadata": {},
   "outputs": [],
   "source": [
    "# import statsmodels.formula.api as sm\n",
    "import statsmodels.api as sm\n",
    "X = sm.add_constant(ctr_revenue_logit[['country_CN', 'country_GB', 'country_US', 'groups_treatment', 'device_Ios', 'device_Other', 'device_Web', 'views', 'clicks', 'revenue']])\n",
    "y = ctr_revenue_logit[['pb_all']]\n",
    "model = sm.Logit(y, X)\n",
    "result = model.fit()"
   ]
  },
  {
   "cell_type": "code",
   "execution_count": null,
   "metadata": {},
   "outputs": [],
   "source": [
    "result.summary()"
   ]
  },
  {
   "cell_type": "markdown",
   "metadata": {},
   "source": [
    "Some country and device have significant result"
   ]
  },
  {
   "cell_type": "markdown",
   "metadata": {},
   "source": [
    "# Deep dive into problems by country/devices"
   ]
  },
  {
   "cell_type": "code",
   "execution_count": null,
   "metadata": {},
   "outputs": [],
   "source": [
    "# CA, CN and US have a bit more missing userid than GB\n",
    "ctr_revenue_copy.groupby('country')['pb_missing_userid'].mean().reset_index(name = 'mean_pb_missing_userid')"
   ]
  },
  {
   "cell_type": "code",
   "execution_count": null,
   "metadata": {},
   "outputs": [],
   "source": [
    "# CA has more mix userid. something wrong with experiment in CA\n",
    "ctr_revenue_copy.groupby('country')['pb_userid_mix'].mean().reset_index(name = 'mean_pb_userid_mix').plot.bar(x = 'country')"
   ]
  },
  {
   "cell_type": "code",
   "execution_count": null,
   "metadata": {},
   "outputs": [],
   "source": [
    "# all countries have similiar percentage of users with multiple devices\n",
    "ctr_revenue_copy.groupby('country')['pb_userid_mulD'].mean().reset_index(name = 'mean_pb_userid_mulD').plot.bar(x = 'country')"
   ]
  },
  {
   "cell_type": "code",
   "execution_count": null,
   "metadata": {},
   "outputs": [],
   "source": [
    "# all countries have similiar percentage of devices multiple users\n",
    "ctr_revenue_copy.groupby('country')['pb_deviceid_mulU'].mean().reset_index(name = 'mean_pb_deviceid_mulU').plot.bar(x = 'country')"
   ]
  },
  {
   "cell_type": "code",
   "execution_count": null,
   "metadata": {},
   "outputs": [],
   "source": [
    "# IOS and Other have more missing userid than Android and Web\n",
    "ctr_revenue_copy.groupby('device')['pb_missing_userid'].mean().reset_index(name = 'mean_pb_missing_userid')"
   ]
  },
  {
   "cell_type": "code",
   "execution_count": null,
   "metadata": {},
   "outputs": [],
   "source": [
    "# plotting\n",
    "# android and web have more missing userid than ios and other\n",
    "ctr_revenue_copy.groupby('device')['pb_missing_userid'].mean().reset_index(name = 'mean_pb_missing_userid').plot.bar(x='device')"
   ]
  },
  {
   "cell_type": "code",
   "execution_count": null,
   "metadata": {},
   "outputs": [],
   "source": [
    "# IOS and Other have more missing userid than Android and Web\n",
    "ctr_revenue_copy.groupby('device')['pb_userid_mix'].mean().reset_index(name = 'mean_pb_missing_userid')"
   ]
  },
  {
   "cell_type": "code",
   "execution_count": null,
   "metadata": {},
   "outputs": [],
   "source": [
    "# plotting\n",
    "# other and web have more mix userid than android and ios\n",
    "ctr_revenue_copy.groupby('device')['pb_userid_mix'].mean().reset_index(name = 'mean_pb_userid_mix').plot.bar(x='device')"
   ]
  },
  {
   "cell_type": "code",
   "execution_count": null,
   "metadata": {},
   "outputs": [],
   "source": [
    "# plotting\n",
    "# other have more devices with multiple users than Android, ios and web\n",
    "ctr_revenue_copy.groupby('device')['pb_deviceid_mulU'].mean().reset_index(name = 'mean_pb_deviceid_mulU').plot.bar(x='device')"
   ]
  },
  {
   "cell_type": "code",
   "execution_count": null,
   "metadata": {},
   "outputs": [],
   "source": [
    "# IOS and Other have more missing userid than Android and Web\n",
    "ctr_revenue_copy.groupby('device')['pb_userid_mulD'].mean().reset_index(name = 'mean_pb_missing_userid')"
   ]
  },
  {
   "cell_type": "code",
   "execution_count": null,
   "metadata": {},
   "outputs": [],
   "source": [
    "# plotting\n",
    "# ios just has a little bit higher percentage of users with multiple devices\n",
    "ctr_revenue_copy.groupby('device')['pb_userid_mulD'].mean().reset_index(name = 'mean_pb_userid_mulD').plot.bar(x='device')"
   ]
  },
  {
   "cell_type": "markdown",
   "metadata": {},
   "source": [
    "Plot views/clicks by each problem as box plots"
   ]
  },
  {
   "cell_type": "code",
   "execution_count": null,
   "metadata": {},
   "outputs": [],
   "source": [
    "fig, axes = plt.subplots(nrows = 2, ncols = 4, figsize=(10, 10), sharey = False, sharex = True)\n",
    "# views\n",
    "ctr_revenue_copy[['pb_missing_userid', 'views']].boxplot(by = 'pb_missing_userid', ax = axes[0][0])\n",
    "ctr_revenue_copy[['pb_userid_mix', 'views']].boxplot(by = 'pb_userid_mix', ax = axes[0][1])\n",
    "ctr_revenue_copy[['pb_deviceid_mulU', 'views']].boxplot(by = 'pb_deviceid_mulU', ax = axes[0][2])\n",
    "ctr_revenue_copy[['pb_userid_mulD', 'views']].boxplot(by = 'pb_userid_mulD', ax = axes[0][3])\n",
    "# clicks\n",
    "ctr_revenue_copy[['pb_missing_userid', 'clicks']].boxplot(by = 'pb_missing_userid', ax = axes[1][0])\n",
    "ctr_revenue_copy[['pb_userid_mix', 'clicks']].boxplot(by = 'pb_userid_mix', ax = axes[1][1])\n",
    "ctr_revenue_copy[['pb_deviceid_mulU', 'clicks']].boxplot(by = 'pb_deviceid_mulU', ax = axes[1][2])\n",
    "ctr_revenue_copy[['pb_userid_mulD', 'clicks']].boxplot(by = 'pb_userid_mulD', ax = axes[1][3])"
   ]
  },
  {
   "cell_type": "markdown",
   "metadata": {},
   "source": [
    "Does these problems cause differences on clicks?"
   ]
  },
  {
   "cell_type": "code",
   "execution_count": null,
   "metadata": {},
   "outputs": [],
   "source": [
    "for column in ['pb_missing_userid', 'pb_userid_mix', 'pb_deviceid_mulU', 'pb_userid_mulD']:\n",
    "    display(ctr_revenue_copy.groupby(column)['clicks'].mean().reset_index().rename(columns = {'clicks': 'average_clicks'}))"
   ]
  },
  {
   "cell_type": "markdown",
   "metadata": {},
   "source": [
    "Mixed users have much less clicks than others. Users with multi devices have less clicks than others"
   ]
  },
  {
   "cell_type": "markdown",
   "metadata": {},
   "source": [
    "# Start analyzing A/B testing excluding problematic records with metric - CTR"
   ]
  },
  {
   "cell_type": "markdown",
   "metadata": {},
   "source": [
    "For simplicity, throw away the problematic assignments. In reality, do not do this by default. Need to go through\n",
    "checks carefully. "
   ]
  },
  {
   "cell_type": "code",
   "execution_count": null,
   "metadata": {},
   "outputs": [],
   "source": [
    "ctr_revenue_copy_noPb = ctr_revenue_copy[ctr_revenue_copy.pb_all == 0]"
   ]
  },
  {
   "cell_type": "code",
   "execution_count": null,
   "metadata": {},
   "outputs": [],
   "source": [
    "ctr_revenue_copy_noPb.shape"
   ]
  },
  {
   "cell_type": "code",
   "execution_count": null,
   "metadata": {},
   "outputs": [],
   "source": [
    "# what is the date range\n",
    "print min(ctr_revenue_copy_noPb['date']) # minimum date of dataset\n",
    "print min(ctr_revenue_copy_noPb['date']) + pd.Timedelta(days=3) # start date of experiment"
   ]
  },
  {
   "cell_type": "code",
   "execution_count": null,
   "metadata": {},
   "outputs": [],
   "source": [
    "# subsetting the data separating by the experiment start timestamp\n",
    "data_before = ctr_revenue_copy_noPb[ctr_revenue_copy_noPb.date < min(ctr_revenue_copy_noPb['date']) + pd.Timedelta(days=3)]\n",
    "data_after = ctr_revenue_copy_noPb[ctr_revenue_copy_noPb.date >= min(ctr_revenue_copy_noPb['date']) + pd.Timedelta(days=3)]"
   ]
  },
  {
   "cell_type": "code",
   "execution_count": null,
   "metadata": {},
   "outputs": [],
   "source": [
    "print data_before.shape\n",
    "print data_after.shape"
   ]
  },
  {
   "cell_type": "markdown",
   "metadata": {},
   "source": [
    "Before the experiment started, any difference on ctr between treatment and control?"
   ]
  },
  {
   "cell_type": "code",
   "execution_count": null,
   "metadata": {},
   "outputs": [],
   "source": [
    "cVSt_clicks_views_before = data_before.groupby('groups')['clicks','views'].sum()"
   ]
  },
  {
   "cell_type": "code",
   "execution_count": null,
   "metadata": {},
   "outputs": [],
   "source": [
    "cVSt_clicks_views_before['non-clicks'] = cVSt_clicks_views_before['views'] - cVSt_clicks_views_before['clicks']"
   ]
  },
  {
   "cell_type": "code",
   "execution_count": null,
   "metadata": {},
   "outputs": [],
   "source": [
    "cVSt_clicks_views_before = cVSt_clicks_views_before.drop(['views'], axis = 1)"
   ]
  },
  {
   "cell_type": "code",
   "execution_count": null,
   "metadata": {},
   "outputs": [],
   "source": [
    "cVSt_clicks_views_before"
   ]
  },
  {
   "cell_type": "code",
   "execution_count": null,
   "metadata": {},
   "outputs": [],
   "source": [
    "from scipy.stats import chi2_contingency\n",
    "chi2_contingency(cVSt_clicks_views_before)"
   ]
  },
  {
   "cell_type": "markdown",
   "metadata": {},
   "source": [
    "Before experiment, the difference on ctr between two groups are not significant"
   ]
  },
  {
   "cell_type": "markdown",
   "metadata": {},
   "source": [
    "Then, let's check difference on ctr between two groups after experiment starts"
   ]
  },
  {
   "cell_type": "code",
   "execution_count": null,
   "metadata": {
    "collapsed": true
   },
   "outputs": [],
   "source": [
    "cVSt_clicks_views_after = data_after.groupby('groups')['clicks','views'].sum()"
   ]
  },
  {
   "cell_type": "code",
   "execution_count": null,
   "metadata": {
    "collapsed": true
   },
   "outputs": [],
   "source": [
    "cVSt_clicks_views_after['non-clicks'] = cVSt_clicks_views_after['views'] - cVSt_clicks_views_after['clicks']"
   ]
  },
  {
   "cell_type": "code",
   "execution_count": null,
   "metadata": {},
   "outputs": [],
   "source": [
    "cVSt_clicks_views_after = cVSt_clicks_views_after.drop(['views'], axis = 1)"
   ]
  },
  {
   "cell_type": "code",
   "execution_count": null,
   "metadata": {},
   "outputs": [],
   "source": [
    "cVSt_clicks_views_after"
   ]
  },
  {
   "cell_type": "code",
   "execution_count": null,
   "metadata": {},
   "outputs": [],
   "source": [
    "from scipy.stats import chi2_contingency\n",
    "chi2_contingency(cVSt_clicks_views_after)"
   ]
  },
  {
   "cell_type": "markdown",
   "metadata": {},
   "source": [
    "After experiment, the differnce between two groups are not significant, either.\n",
    "\n",
    "So, let's deep dive into different countries and different devices to see any difference"
   ]
  },
  {
   "cell_type": "code",
   "execution_count": null,
   "metadata": {},
   "outputs": [],
   "source": [
    "class ztest():\n",
    "    def ztest_by_subgroup(self, data, bycol, value):\n",
    "        subset = data[data[bycol] == value]\n",
    "        subset_clicks_views = subset.groupby('groups')['clicks', 'views'].sum()\n",
    "        subset_clicks_views['non_clicks'] = subset_clicks_views['views'] - subset_clicks_views['clicks']\n",
    "        subset_clicks_views = subset_clicks_views.drop(['views'], axis = 1)\n",
    "        chisq, p, dof, expectedArray = chi2_contingency(subset_clicks_views)\n",
    "        print \"When %s is %s, p-value is %s\" %(bycol, value, p)\n",
    "        return p\n",
    "    def transform(self, data, bycol):\n",
    "        unique_vals = data[bycol].unique()\n",
    "        for value in unique_vals:\n",
    "            self.ztest_by_subgroup(data, bycol, value)\n",
    "    "
   ]
  },
  {
   "cell_type": "code",
   "execution_count": null,
   "metadata": {},
   "outputs": [],
   "source": [
    "groupsXdevices = data_after.groupby(['groups', 'device']).size().reset_index(name = 'count').pivot(index = 'groups', columns = 'device')\n",
    "groupsXdevices"
   ]
  },
  {
   "cell_type": "code",
   "execution_count": null,
   "metadata": {},
   "outputs": [],
   "source": [
    "chi2_contingency(groupsXdevices)"
   ]
  },
  {
   "cell_type": "markdown",
   "metadata": {},
   "source": [
    "the device counts are imbalanced in two groups"
   ]
  },
  {
   "cell_type": "code",
   "execution_count": null,
   "metadata": {},
   "outputs": [],
   "source": [
    "ztest().transform(data_after, 'device')"
   ]
  },
  {
   "cell_type": "markdown",
   "metadata": {},
   "source": [
    "IOS has significant difference"
   ]
  },
  {
   "cell_type": "code",
   "execution_count": null,
   "metadata": {},
   "outputs": [],
   "source": [
    "groupsXcountries = data_after.groupby(['groups', 'country']).size().reset_index(name = 'count').pivot(index = 'groups', columns = 'country')\n",
    "groupsXcountries"
   ]
  },
  {
   "cell_type": "code",
   "execution_count": null,
   "metadata": {},
   "outputs": [],
   "source": [
    "chi2_contingency(groupsXcountries)"
   ]
  },
  {
   "cell_type": "code",
   "execution_count": null,
   "metadata": {},
   "outputs": [],
   "source": [
    "ztest().transform(data_after, 'country')"
   ]
  },
  {
   "cell_type": "markdown",
   "metadata": {},
   "source": [
    "No specific country has significant difference on CTR"
   ]
  },
  {
   "cell_type": "markdown",
   "metadata": {},
   "source": [
    "# Start analyzing A/B testing excluding problematic records with metric - Revenue"
   ]
  },
  {
   "cell_type": "markdown",
   "metadata": {},
   "source": [
    "Next, let's check the revenue after checking CTR"
   ]
  },
  {
   "cell_type": "code",
   "execution_count": null,
   "metadata": {},
   "outputs": [],
   "source": [
    "ctr_revenue_copy.revenue.hist(bins = 100).set_xlim((0,150))"
   ]
  },
  {
   "cell_type": "code",
   "execution_count": null,
   "metadata": {},
   "outputs": [],
   "source": [
    "ctr_revenue_copy[ctr_revenue_copy.revenue == 0].shape[0] * 1.0/ctr_revenue_copy.shape[0]"
   ]
  },
  {
   "cell_type": "markdown",
   "metadata": {},
   "source": [
    "This is so highly skewed"
   ]
  },
  {
   "cell_type": "code",
   "execution_count": null,
   "metadata": {},
   "outputs": [],
   "source": [
    "# now only consider the revenue > 0\n",
    "Revenue = ctr_revenue_copy[ctr_revenue_copy.revenue > 0][['revenue']]"
   ]
  },
  {
   "cell_type": "code",
   "execution_count": null,
   "metadata": {},
   "outputs": [],
   "source": [
    "Revenue.revenue.hist(bins = 100).set_xlim((0,900))"
   ]
  },
  {
   "cell_type": "markdown",
   "metadata": {},
   "source": [
    "There are some extremely high outliers"
   ]
  },
  {
   "cell_type": "code",
   "execution_count": null,
   "metadata": {},
   "outputs": [],
   "source": [
    "Revenue[['revenue']].boxplot()"
   ]
  },
  {
   "cell_type": "code",
   "execution_count": null,
   "metadata": {
    "collapsed": true
   },
   "outputs": [],
   "source": [
    "Revenue_win = Revenue.copy()"
   ]
  },
  {
   "cell_type": "code",
   "execution_count": null,
   "metadata": {},
   "outputs": [],
   "source": [
    "# Let's do data winsorization\n",
    "bound = Revenue_win.revenue.quantile(0.99) \n",
    "Revenue_win.loc[Revenue_win.revenue > bound, 'revenue'] = bound"
   ]
  },
  {
   "cell_type": "code",
   "execution_count": null,
   "metadata": {},
   "outputs": [],
   "source": [
    "Revenue_win[['revenue']].boxplot().set_ylim((0, 200))"
   ]
  },
  {
   "cell_type": "code",
   "execution_count": null,
   "metadata": {},
   "outputs": [],
   "source": [
    "fig, axes = plt.subplots(nrows = 1, ncols = 2, sharey = True)\n",
    "Revenue.plot(kind='hist',subplots=True,sharex=True,sharey=True, ax = axes[0])\n",
    "Revenue_win.plot(kind='hist',subplots=True,sharex=True,sharey=True, ax = axes[1])\n",
    "axes[0].text(500, 2100,'Revenue', horizontalalignment='center')\n",
    "axes[1].text(500, 2100,'New Revenue (without 0)', horizontalalignment='center')"
   ]
  },
  {
   "cell_type": "markdown",
   "metadata": {},
   "source": [
    "Bootstrap - comparing revenue between groups"
   ]
  },
  {
   "cell_type": "code",
   "execution_count": null,
   "metadata": {},
   "outputs": [],
   "source": [
    "E_mean = np.mean(Revenue_win.revenue)\n",
    "E_var = np.var(Revenue_win.revenue)/Revenue_win.shape[0]\n",
    "print \"The mean of Revenue_win is %s, and variance of Revenue_win is %s\" %(E_mean, E_var)"
   ]
  },
  {
   "cell_type": "code",
   "execution_count": null,
   "metadata": {
    "collapsed": true
   },
   "outputs": [],
   "source": [
    "True = np.mean(Revenue_win.revenue)\n",
    "btsample = []\n",
    "for i in range(1000):\n",
    "    sample = Revenue_win.sample(Revenue_win.shape[0], replace = True)\n",
    "    btsample.append(np.mean(sample))"
   ]
  },
  {
   "cell_type": "code",
   "execution_count": null,
   "metadata": {},
   "outputs": [],
   "source": [
    "var_bt = np.var(btsample)\n",
    "var_bt"
   ]
  },
  {
   "cell_type": "code",
   "execution_count": null,
   "metadata": {},
   "outputs": [],
   "source": [
    "E_var"
   ]
  },
  {
   "cell_type": "code",
   "execution_count": null,
   "metadata": {
    "collapsed": true
   },
   "outputs": [],
   "source": [
    "True = Revenue_win.revenue.quantile(0.75)\n",
    "btsample = []\n",
    "for i in range(1000):\n",
    "    sample = Revenue_win.sample(Revenue_win.shape[0], replace = True)\n",
    "    btsample.append(sample.revenue.quantile(0.75))"
   ]
  },
  {
   "cell_type": "code",
   "execution_count": null,
   "metadata": {},
   "outputs": [],
   "source": [
    "print Revenue_win.revenue.quantile(0.75)\n",
    "print btsample"
   ]
  },
  {
   "cell_type": "code",
   "execution_count": null,
   "metadata": {},
   "outputs": [],
   "source": [
    "print np.var(btsample)"
   ]
  },
  {
   "cell_type": "markdown",
   "metadata": {},
   "source": [
    "# Results analysis"
   ]
  },
  {
   "cell_type": "code",
   "execution_count": null,
   "metadata": {},
   "outputs": [],
   "source": [
    "bound = Revenue.revenue.quantile(0.999)\n",
    "data_before['revenue_win'] = np.where(data_before['revenue'] > bound, bound, data_before['revenue'])"
   ]
  },
  {
   "cell_type": "code",
   "execution_count": null,
   "metadata": {},
   "outputs": [],
   "source": [
    "data_after['revenue_win'] = np.where(data_after['revenue'] > bound, bound, data_after['revenue'])"
   ]
  },
  {
   "cell_type": "code",
   "execution_count": null,
   "metadata": {},
   "outputs": [],
   "source": [
    "from scipy.stats import ttest_ind\n",
    "\n",
    "treatment = data_after[data_after['groups']=='treatment']\n",
    "control = data_after[data_after['groups']=='control']\n",
    "\n",
    "ttest_ind(treatment['revenue_win'], control['revenue_win'], equal_var = False)"
   ]
  },
  {
   "cell_type": "markdown",
   "metadata": {},
   "source": [
    "Thus, treatment and control revenue are not significant different after experiment started"
   ]
  },
  {
   "cell_type": "markdown",
   "metadata": {},
   "source": [
    "There might be bias before experiment started. So, Let's do Regression Adjustment & diff-in-diff analysis"
   ]
  },
  {
   "cell_type": "code",
   "execution_count": null,
   "metadata": {
    "collapsed": true
   },
   "outputs": [],
   "source": [
    "# trying to do sql in pandas\n",
    "from pandasql import sqldf\n",
    "pysqldf = lambda q: sqldf(q, globals())"
   ]
  },
  {
   "cell_type": "code",
   "execution_count": null,
   "metadata": {},
   "outputs": [],
   "source": [
    "# Average daily revenue after experiment started (11 days)\n",
    "daily_rev_post = pysqldf(\"select userid, country, device, groups, sum(revenue_win)/11 as rev_post \\\n",
    "from data_after group by 1,2,3,4\")\n",
    "# Average daily revenue before experiment started (3 days)\n",
    "daily_rev_pre = pysqldf(\"select userid, country, device, groups, date, sum(revenue_win)/3 as rev_pre \\\n",
    "                      from data_before group by 1,2,3,4\")\n",
    "# Combine daily_rev_post with daily_rev_pre\n",
    "daily_rev = pysqldf('select a.*, coalesce(rev_pre,0) as rev_pre from daily_rev_post a left outer join daily_rev_pre b on a.userid = b.userid')\n"
   ]
  },
  {
   "cell_type": "code",
   "execution_count": null,
   "metadata": {},
   "outputs": [],
   "source": [
    "x1 = daily_rev[daily_rev.groups == 'treatment'].rev_post - daily_rev[daily_rev.groups == 'treatment'].rev_pre\n",
    "x2 = daily_rev[daily_rev.groups == 'control'].rev_post - daily_rev[daily_rev.groups == 'control'].rev_pre"
   ]
  },
  {
   "cell_type": "code",
   "execution_count": null,
   "metadata": {},
   "outputs": [],
   "source": [
    "ttest_ind(x1, x2, equal_var = False)"
   ]
  },
  {
   "cell_type": "markdown",
   "metadata": {},
   "source": [
    "So, diff-in-dff are significant between treatment and control group"
   ]
  },
  {
   "cell_type": "code",
   "execution_count": null,
   "metadata": {},
   "outputs": [],
   "source": [
    "from statsmodels.formula.api import ols\n",
    "mod = ols(formula = 'rev_post ~ groups + country + device + rev_pre', data = daily_rev)\n",
    "res = mod.fit()\n",
    "print(res.summary())"
   ]
  },
  {
   "cell_type": "markdown",
   "metadata": {},
   "source": [
    "No obvious relationship between specific country/device and revenue"
   ]
  },
  {
   "cell_type": "markdown",
   "metadata": {},
   "source": [
    "# Cohort analysis "
   ]
  },
  {
   "cell_type": "markdown",
   "metadata": {},
   "source": [
    "on D4 users, analyzing change over time"
   ]
  },
  {
   "cell_type": "code",
   "execution_count": null,
   "metadata": {},
   "outputs": [],
   "source": [
    "d4_userid = data_after[data_after.date == '2017-05-11'].userid.values\n",
    "d4 = data_after[data_after['userid'].apply(lambda x: x in set(d4_userid))]"
   ]
  },
  {
   "cell_type": "code",
   "execution_count": null,
   "metadata": {
    "collapsed": true
   },
   "outputs": [],
   "source": [
    "cohort_df = pd.DataFrame(columns=['date','p.value'])"
   ]
  },
  {
   "cell_type": "code",
   "execution_count": null,
   "metadata": {},
   "outputs": [],
   "source": [
    "cohort_list = []\n",
    "n_dist_date = len(ctr_revenue.date.unique())\n",
    "for i in range(n_dist_date - 3):\n",
    "    print i\n",
    "    date = np.sort(ctr_revenue.date.unique())[i+3]\n",
    "    p = ztest().ztest_by_subgroup(d4, 'date', date)\n",
    "    cohort_list.append((date, p))\n",
    "cohort_df = pd.DataFrame(cohort_list, columns = ['date', 'p-value'])\n",
    "cohort_df"
   ]
  },
  {
   "cell_type": "code",
   "execution_count": null,
   "metadata": {},
   "outputs": [],
   "source": [
    "cohort_df.set_index('date').plot()"
   ]
  }
 ],
 "metadata": {
  "kernelspec": {
   "display_name": "Python 2",
   "language": "python",
   "name": "python2"
  },
  "language_info": {
   "codemirror_mode": {
    "name": "ipython",
    "version": 2
   },
   "file_extension": ".py",
   "mimetype": "text/x-python",
   "name": "python",
   "nbconvert_exporter": "python",
   "pygments_lexer": "ipython2",
   "version": "2.7.13"
  }
 },
 "nbformat": 4,
 "nbformat_minor": 2
}
